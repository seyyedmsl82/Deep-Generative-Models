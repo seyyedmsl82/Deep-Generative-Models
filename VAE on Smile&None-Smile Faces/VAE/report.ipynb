{
 "cells": [
  {
   "cell_type": "code",
   "execution_count": null,
   "id": "initial_id",
   "metadata": {
    "collapsed": true
   },
   "outputs": [],
   "source": []
  },
  {
   "cell_type": "markdown",
   "source": [
    "# **Beta-VAE Loss Derivation as a Lagrangian under KKT Conditions**\n",
    "\n",
    "## **Objective**\n",
    "\n",
    "In the beta-VAE, we modify the original VAE loss function to encourage disentangled representations by scaling the KL divergence term with a factor, beta.\n",
    "\n",
    "Given:\n",
    "\n",
    "`L_beta-VAE = E_q(z|x)[ log p(x|z) ] - beta * D_KL( q(z|x) || p(z) )`\n",
    "\n",
    "we aim to derive this as a Lagrangian under KKT (Karush-Kuhn-Tucker) conditions.\n",
    "\n",
    "## **Step 1: Constrained Optimization Setup**\n",
    "\n",
    "Set up the objective as a constrained optimization problem, where we maximize the reconstruction likelihood while constraining the KL divergence:\n",
    "\n",
    "`maximize_q(z|x) E_q(z|x)[ log p(x|z) ]`  \n",
    "**subject to**  \n",
    "`D_KL( q(z|x) || p(z) ) <= delta`\n",
    "\n",
    "where `delta` is a predefined threshold for the KL divergence.\n",
    "\n",
    "## **Step 2: Formulating the Lagrangian**\n",
    "\n",
    "Convert the constrained problem to an unconstrained problem by introducing a Lagrange multiplier, beta:\n",
    "\n",
    "`L = E_q(z|x)[ log p(x|z) ] - beta * ( D_KL( q(z|x) || p(z) ) - delta )`\n",
    "\n",
    "Expanding the terms, we get:\n",
    "\n",
    "`L = E_q(z|x)[ log p(x|z) ] - beta * D_KL( q(z|x) || p(z) ) + beta * delta`\n",
    "\n",
    "## **Step 3: Applying KKT Conditions**\n",
    "\n",
    "To ensure optimality, we apply the KKT conditions:\n",
    "\n",
    "1. **Primal Feasibility:** `D_KL( q(z|x) || p(z) ) <= delta`\n",
    "2. **Dual Feasibility:** `beta >= 0`\n",
    "3. **Complementary Slackness:** `beta * ( D_KL( q(z|x) || p(z) ) - delta ) = 0`\n",
    "\n",
    "### **Interpretation**\n",
    "\n",
    "- If `D_KL( q(z|x) || p(z) ) = delta`: `beta` is non-zero, keeping the KL term active.\n",
    "- If `D_KL( q(z|x) || p(z) ) < delta`: `beta = 0`, which reduces the loss to the standard VAE form without scaling.\n",
    "\n",
    "## **Conclusion: Final Loss Function**\n",
    "\n",
    "The final loss function for the beta-VAE, incorporating the KKT-derived Lagrange multiplier beta, is:\n",
    "\n",
    "`L_beta-VAE = E_q(z|x)[ log p(x|z) ] - beta * D_KL( q(z|x) || p(z) )`\n",
    "\n",
    "This form allows tuning of the KL divergence to control the trade-off between reconstruction accuracy and latent disentanglement by varying beta.\n",
    "\n"
   ],
   "metadata": {
    "collapsed": false
   },
   "id": "7a658e533a092f9a"
  },
  {
   "cell_type": "code",
   "outputs": [],
   "source": [],
   "metadata": {
    "collapsed": false
   },
   "id": "ca4ef981ebcbd3dd"
  }
 ],
 "metadata": {
  "kernelspec": {
   "display_name": "Python 3",
   "language": "python",
   "name": "python3"
  },
  "language_info": {
   "codemirror_mode": {
    "name": "ipython",
    "version": 2
   },
   "file_extension": ".py",
   "mimetype": "text/x-python",
   "name": "python",
   "nbconvert_exporter": "python",
   "pygments_lexer": "ipython2",
   "version": "2.7.6"
  }
 },
 "nbformat": 4,
 "nbformat_minor": 5
}
